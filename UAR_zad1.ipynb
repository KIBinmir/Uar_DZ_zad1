{
 "cells": [
  {
   "cell_type": "markdown",
   "id": "b67a80dc",
   "metadata": {},
   "source": [
    "# Следующие 2 ячейки не являеются частью задания"
   ]
  },
  {
   "cell_type": "code",
   "execution_count": 22,
   "id": "0d321b98",
   "metadata": {},
   "outputs": [],
   "source": [
    "file = open('test4.txt', 'r')\n",
    "d = dict()\n",
    "k = list()\n",
    "for s in file:\n",
    "    k.append(s.split())\n",
    "    for i in s:\n",
    "        if i not in d:\n",
    "            d[i] = 0\n",
    "        d[i] += 1\n",
    "file.close()"
   ]
  },
  {
   "cell_type": "code",
   "execution_count": 23,
   "id": "74adf7ac",
   "metadata": {},
   "outputs": [
    {
     "name": "stdout",
     "output_type": "stream",
     "text": [
      "{'5': 25240, '.': 68400, '1': 39769, '4': 21437, '8': 17570, '0': 43865, '2': 25094, ',': 68200, ' ': 68300, '-': 112, '6': 24945, '3': 24017, '7': 18265, ';': 100, '9': 17307, '\\n': 100}\n"
     ]
    }
   ],
   "source": [
    "print(d)"
   ]
  },
  {
   "cell_type": "markdown",
   "id": "be2b95af",
   "metadata": {},
   "source": [
    "# Начало выполнения задания"
   ]
  },
  {
   "cell_type": "markdown",
   "id": "b7dd65bf",
   "metadata": {},
   "source": [
    "# Подключаение библиотек"
   ]
  },
  {
   "cell_type": "code",
   "execution_count": 1,
   "id": "b503b4c0",
   "metadata": {},
   "outputs": [],
   "source": [
    "import re\n",
    "import matplotlib.pyplot as plt\n",
    "import numpy as np"
   ]
  },
  {
   "cell_type": "markdown",
   "id": "80b16dd5",
   "metadata": {},
   "source": [
    "# Функция вычисления расстояния между точкой и прямой"
   ]
  },
  {
   "cell_type": "code",
   "execution_count": 2,
   "id": "06125e96",
   "metadata": {},
   "outputs": [],
   "source": [
    "# (x0, y0) - координаты точки, не лежащей на прямой,\n",
    "# (x1, y1), (x2, y2) - координаты точек, лежащих на прямой\n",
    "\n",
    "def Perpend_r(x0, y0, x1, y1, x2, y2):\n",
    "    if np.sqrt((y2-y1)**2 + (x2-x1)**2) == 0:\n",
    "        return 10000000\n",
    "    return np.abs((y2-y1)*(x0-x1) - (x2-x1)*(y0-y1))/np.sqrt((y2-y1)**2 + (x2-x1)**2)"
   ]
  },
  {
   "cell_type": "markdown",
   "id": "729f223b",
   "metadata": {},
   "source": [
    "# Алгоритм преобразования прямой Дугласса-Пекера"
   ]
  },
  {
   "cell_type": "code",
   "execution_count": 3,
   "id": "aeaf8c5b",
   "metadata": {},
   "outputs": [],
   "source": [
    "def DouglasPecker(lst, epsilon):\n",
    "    dmax = 0\n",
    "    ind = -1\n",
    "    for i in range(1,len(lst)):\n",
    "        d = Perpend_r(lst[i][0], lst[i][1], lst[0][0], lst[0][1], lst[-1][0], lst[-1][1])\n",
    "        if d > dmax:\n",
    "            ind = i\n",
    "            dmax = d\n",
    "        \n",
    "    if dmax >= epsilon:\n",
    "        lst1 = DouglasPecker(lst[:ind], epsilon)\n",
    "        lst2 = DouglasPecker(lst[ind:], epsilon)\n",
    "        return np.vstack((lst1, lst2))\n",
    "    else:\n",
    "        return np.vstack((lst[0], lst[-1]))\n",
    "    "
   ]
  },
  {
   "cell_type": "markdown",
   "id": "a27cc210",
   "metadata": {},
   "source": [
    "# Чтение лога файла, разбиение данных на данные одометрии и данные лидара"
   ]
  },
  {
   "cell_type": "code",
   "execution_count": 4,
   "id": "823f4e64",
   "metadata": {},
   "outputs": [],
   "source": [
    "\n",
    "file = open('test4.txt', 'r')\n",
    "coords = []\n",
    "lidar =  list()\n",
    "for s in file:\n",
    "    lst = list(map(float, re.split(r'[;,\\s]\\s', s)))\n",
    "    coords.append(lst[:3])\n",
    "    lidar.append(lst[3:])\n",
    "file.close()"
   ]
  },
  {
   "cell_type": "markdown",
   "id": "9cb11746",
   "metadata": {},
   "source": [
    "# преобразованние данных в удобный формат для вычислений"
   ]
  },
  {
   "cell_type": "code",
   "execution_count": 5,
   "id": "ea643dc6",
   "metadata": {},
   "outputs": [],
   "source": [
    "pi=np.pi # Константа Пи\n",
    "r=0.3 # Расстояние между лидаром и центром робота\n",
    "\n",
    "stena=np.zeros((100,681, 2)) # Массив для хранения координат точек препятствий, обнаруженных лидаром за все время\n",
    "\n",
    "lid = np.array(lidar) # Данные лидара в формате numpy\n",
    "xoy = np.array(coords) # Данные одометрии в формате numpy\n",
    "\n",
    "xoy[:,:2] -= xoy[0,:2] # Приведение данных одометрии к началу отсчета координат\n",
    "\n",
    "#lid[lid < 0.01] = 0 # фильтрация данных лидара, которые находятся вне зоны видимости\n",
    "#lid[lid > 4] = 0\n",
    "grad=np.arange(120,-120,-240/681)*pi/180 # Массив угловых положений лидара\n"
   ]
  },
  {
   "cell_type": "markdown",
   "id": "a7bbd40f",
   "metadata": {},
   "source": [
    "# Преобразование данных лидара (полярной систсемы координат) в глобальную систему координат (декартовую систему)"
   ]
  },
  {
   "cell_type": "code",
   "execution_count": 6,
   "id": "df899950",
   "metadata": {},
   "outputs": [],
   "source": [
    "for i in range(100):\n",
    "    for j in range(681):\n",
    "        # фильтрация данных лидара, которые находятся вне зоны его видимости и в пределах видимости колес робота\n",
    "        if 0.5 < lid[i,j] < 4:\n",
    "            stena[i, j, 0] = lid[i,j]*np.cos(grad[j]+xoy[i,2]) + r*np.cos(xoy[i,2]) + xoy[i,0]\n",
    "            stena[i, j, 1] = lid[i,j]*np.sin(grad[j]+xoy[i,2]) + r*np.sin(xoy[i,2]) + xoy[i,1]\n",
    "        else:\n",
    "            stena[i, j, 0] = 0\n",
    "            stena[i, j, 1] = 0"
   ]
  },
  {
   "cell_type": "markdown",
   "id": "3c7e4fe3",
   "metadata": {},
   "source": [
    "# Поворот карты на 30 градусов"
   ]
  },
  {
   "cell_type": "code",
   "execution_count": 7,
   "id": "de08dfca",
   "metadata": {},
   "outputs": [
    {
     "data": {
      "text/plain": [
       "(681, 100, 2)"
      ]
     },
     "execution_count": 7,
     "metadata": {},
     "output_type": "execute_result"
    }
   ],
   "source": [
    "stena_l = np.array((stena[:,:,0]*np.cos(-pi/12)-stena[:,:,1]*np.sin(-pi/12),\n",
    "                    stena[:,:,0]*np.sin(-pi/12)+stena[:,:,1]*np.cos(-pi/12))).T\n",
    "xoy_l = np.array((xoy[:,0]*np.cos(-pi/12)-xoy[:,1]*np.sin(-pi/12),\n",
    "                  xoy[:,0]*np.sin(-pi/12)+xoy[:,1]*np.cos(-pi/12))).T\n",
    "stena_l.shape"
   ]
  },
  {
   "cell_type": "markdown",
   "id": "015322df",
   "metadata": {},
   "source": [
    "# Построение карты и траектории движения робота"
   ]
  },
  {
   "cell_type": "code",
   "execution_count": 8,
   "id": "b3181de2",
   "metadata": {
    "scrolled": false
   },
   "outputs": [
    {
     "data": {
      "image/png": "[encoded data removed]",
      "text/plain": [
       "<Figure size 720x720 with 1 Axes>"
      ]
     },
     "metadata": {
      "needs_background": "light"
     },
     "output_type": "display_data"
    }
   ],
   "source": [
    "plt.figure(figsize=(10,10))\n",
    "#plt.xlim([-5,5])\n",
    "#plt.ylim([-5,5])\n",
    "stena_l[stena_l is None] = 0\n",
    "for k in range(0,100,1):\n",
    "    #ranged = DouglasPecker(stena[k],0.01)\n",
    "    #ranged = DouglasPecker(stena_l[:,k],0.01)\n",
    "    #ranged[ranged == 0] = None\n",
    "    #plt.plot(ranged[:,0], ranged[:,1], '.k')\n",
    "    \n",
    "    #plt.plot(stena[k,:,0], stena[k,:,1], '.k')\n",
    "    #plt.plot(xoy[k,0], xoy[k,1], '.b')\n",
    "    \n",
    "    plt.plot(stena_l[:,k,0], stena_l[:,k,1], '.k')\n",
    "    plt.plot(xoy_l[k,0], xoy_l[k,1], '.b')\n",
    "    \n",
    "    \n",
    "plt.grid()\n",
    "#plt.savefig('map1.png')"
   ]
  },
  {
   "cell_type": "markdown",
   "id": "c0b0f282",
   "metadata": {},
   "source": [
    "# Создание анимации построения карты"
   ]
  },
  {
   "cell_type": "code",
   "execution_count": 10,
   "id": "e5fc68b3",
   "metadata": {},
   "outputs": [
    {
     "data": {
      "image/png": "[encoded data removed]",
      "text/plain": [
       "<Figure size 720x720 with 1 Axes>"
      ]
     },
     "metadata": {
      "needs_background": "light"
     },
     "output_type": "display_data"
    }
   ],
   "source": [
    "import matplotlib.animation as animation\n",
    "from matplotlib.animation import PillowWriter\n",
    "\n",
    "fig = plt.figure(figsize=(10,10))\n",
    "ax = fig.add_subplot(111)\n",
    "ax.set_xlim([-2,4])\n",
    "ax.set_ylim([-3,3])\n",
    "\n",
    "\n",
    "artists = []\n",
    "writer = PillowWriter(fps=5)\n",
    "\n",
    "#stena_l[stena_l == 0] = None\n",
    "line, = ax.plot(xoy_l[0,0], xoy_l[0,1], '.b')\n",
    "lid, = ax.plot(stena_l[:,0,0], stena_l[:,0,1], '.k')\n",
    "'''\n",
    "def update(i):\n",
    "        \n",
    "    lid.set_data(stena_l[:,i,0], stena_l[:,i,1])\n",
    "    line.set_data(xoy_l[:i,0], xoy_l[:i,1])\n",
    "    \n",
    "    return line\n",
    "\n",
    "'''\n",
    "tmp =np.array([None, None])\n",
    "for i in range(100): \n",
    "    ranged = DouglasPecker(stena_l[:,i],0.01)\n",
    "    ranged[ranged == 0] = None\n",
    "    tmp = np.vstack((tmp, ranged))\n",
    "    #lid2 = ax.plot(tmp[:,0],tmp[:,1], '.k',xoy_l[:i,0], xoy_l[:i,1], '.b')\n",
    "    lid2 = ax.plot(ranged[:,0],ranged[:,1], '.k',xoy_l[:i,0], xoy_l[:i,1], '.b')\n",
    "    \n",
    "    artists.append(lid2)\n",
    "    \n",
    "ani = animation.ArtistAnimation(fig=fig, artists=artists, interval=50)\n",
    "\n",
    "#ani = animation.FuncAnimation(fig=fig, func=update, frames=100, interval=50)\n",
    "ani.save('film4.gif', writer=writer)"
   ]
  },
  {
   "cell_type": "markdown",
   "id": "6aefbca5",
   "metadata": {},
   "source": [
    "# Остальное (может быть понадобиться в след задании)"
   ]
  },
  {
   "cell_type": "code",
   "execution_count": null,
   "id": "79daeec2",
   "metadata": {},
   "outputs": [],
   "source": [
    "x0, y0 = 0, 0\n",
    "\n",
    "x1 = x0 + u0 + e0\n",
    "\n",
    "z1 = x1 + nu1\n",
    "\n",
    "x1_=x0+u0\n",
    "sigma1**2 = sigma0**2 + sigmae**2\n",
    "\n",
    "k1=(sigma_0**2)/(sigma_0**2 + sigma_nu**2)\n",
    "\n",
    "sigma1**2 =k0*sigmanu**2\n",
    "x1=x1_+k0*(z1-x1_)"
   ]
  },
  {
   "cell_type": "code",
   "execution_count": 17,
   "id": "12d720e9",
   "metadata": {},
   "outputs": [
    {
     "data": {
      "text/plain": [
       "0.5572236750192836"
      ]
     },
     "execution_count": 17,
     "metadata": {},
     "output_type": "execute_result"
    }
   ],
   "source": [
    "xoy[0,2]*180/pi + 15"
   ]
  },
  {
   "cell_type": "code",
   "execution_count": null,
   "id": "fc678a4b",
   "metadata": {},
   "outputs": [],
   "source": []
  }
 ],
 "metadata": {
  "kernelspec": {
   "display_name": "Python 3 (ipykernel)",
   "language": "python",
   "name": "python3"
  },
  "language_info": {
   "codemirror_mode": {
    "name": "ipython",
    "version": 3
   },
   "file_extension": ".py",
   "mimetype": "text/x-python",
   "name": "python",
   "nbconvert_exporter": "python",
   "pygments_lexer": "ipython3",
   "version": "3.10.4"
  }
 },
 "nbformat": 4,
 "nbformat_minor": 5
}
